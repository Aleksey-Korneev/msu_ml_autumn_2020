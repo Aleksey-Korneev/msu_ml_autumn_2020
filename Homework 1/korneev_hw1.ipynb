{
  "nbformat": 4,
  "nbformat_minor": 0,
  "metadata": {
    "kernelspec": {
      "display_name": "Python 3",
      "language": "python",
      "name": "python3"
    },
    "language_info": {
      "codemirror_mode": {
        "name": "ipython",
        "version": 3
      },
      "file_extension": ".py",
      "mimetype": "text/x-python",
      "name": "python",
      "nbconvert_exporter": "python",
      "pygments_lexer": "ipython3",
      "version": "3.8.5"
    },
    "colab": {
      "name": "korneev_hw1.ipynb",
      "provenance": [],
      "collapsed_sections": []
    },
    "accelerator": "GPU"
  },
  "cells": [
    {
      "cell_type": "markdown",
      "metadata": {
        "id": "YPVq5kAtEF1I"
      },
      "source": [
        "**Общая информация**\n",
        "\n",
        "**Срок сдачи:** 21 октября 2020, 08:30 \n",
        "\n",
        "**Штраф за опоздание:** по 1 баллу за 24 часа задержки. Через 5 дней домашнее задание сгорает.\n",
        "\n",
        "При отправлении ДЗ указывайте фамилию в названии файла\n",
        "Присылать ДЗ необходимо в виде ссылки на свой github репозиторий на почту ml1.sphere@mail.ru с указанием темы в следующем формате:\n",
        "\n",
        "[ML0220, Задание 1] Фамилия Имя.\n",
        "\n",
        "Используйте данный Ipython Notebook при оформлении домашнего задания."
      ]
    },
    {
      "cell_type": "markdown",
      "metadata": {
        "id": "dK55L4HlEF1J"
      },
      "source": [
        "\n",
        "**Штрафные баллы:**\n",
        "\n",
        "1. Отсутствие фамилии в имени скрипта (скрипт должен называться по аналогии со stroykova_hw1.ipynb) -0.5 баллов\n",
        "2. Все строчки должны быть выполнены. Нужно, чтобы output команды можно было увидеть уже в git'е. В противном случае -0.5 баллов\n"
      ]
    },
    {
      "cell_type": "code",
      "metadata": {
        "id": "VJ1LJVshEF1K"
      },
      "source": [
        "import numpy as np\n",
        "import matplotlib.pyplot as plt\n",
        "\n",
        "import seaborn as sns\n",
        "from sklearn import datasets\n",
        "from sklearn.base import BaseEstimator\n",
        "from sklearn.datasets import fetch_20newsgroups\n",
        "\n",
        "from sklearn.model_selection import train_test_split, KFold\n",
        "from sklearn.neighbors import KNeighborsClassifier, KDTree\n",
        "from sklearn.metrics import accuracy_score, pairwise_distances"
      ],
      "execution_count": 1,
      "outputs": []
    },
    {
      "cell_type": "markdown",
      "metadata": {
        "id": "CJwxNaOtEF1N"
      },
      "source": [
        "##### Задание 1 (1 балл)\n",
        "Реализовать KNN в классе MyKNeighborsClassifier (обязательное условие: точность не ниже sklearn реализации)\n",
        "Разберитесь самостоятельно, какая мера расстояния используется в KNeighborsClassifier дефолтно и реализуйте свой алгоритм именно с этой мерой. \n",
        "Для подсчета расстояний можно использовать функции [отсюда](https://docs.scipy.org/doc/scipy/reference/spatial.distance.html)"
      ]
    },
    {
      "cell_type": "code",
      "metadata": {
        "id": "9bfMRD89EF1N"
      },
      "source": [
        "class MyKNeighborsClassifier(BaseEstimator):\n",
        "    \n",
        "    def __init__(self, n_neighbors, algorithm='brute', metric='euclidean', standartisation=False):\n",
        "        self.k = n_neighbors\n",
        "        self.algorithm = algorithm\n",
        "        self.metric = metric\n",
        "        self.standartisation = standartisation\n",
        "    \n",
        "    def fit(self, X, y):\n",
        "        # assume X.shape[0] = y.shape[0]\n",
        "        self.X_train = np.array(X)\n",
        "        self.y_train = np.array(y)\n",
        "        if self.standartisation:\n",
        "            self.X_train = (self.X_train - self.X_train.mean()) / self.X_train.std()\n",
        "        if self.algorithm == 'kd_tree':\n",
        "            self.kd_tree = KDTree(self.X_train, metric=self.metric\n",
        "                                  if self.metric in KDTree.valid_metrics\n",
        "                                  else 'euclidean')\n",
        "    \n",
        "    def predict(self, X):\n",
        "        if self.algorithm == 'brute':\n",
        "            dist = pairwise_distances(X, self.X_train, self.metric)\n",
        "            indices = np.argpartition(dist, self.k)[:,:self.k]\n",
        "            k_nearest_indices = np.take_along_axis(indices, np.argsort(\n",
        "                np.take_along_axis(dist, indices, axis=1), axis=1), axis=1)[:, ::-1]\n",
        "        \n",
        "        elif self.algorithm == 'kd_tree':\n",
        "            k_nearest_indices = self.kd_tree.query(X, k=self.k, return_distance=False)\n",
        "        \n",
        "        return np.apply_along_axis(lambda x: np.bincount(x).argmax(), axis=1, arr=self.y_train[k_nearest_indices])"
      ],
      "execution_count": 2,
      "outputs": []
    },
    {
      "cell_type": "markdown",
      "metadata": {
        "id": "z3TBTGS9EF1Q"
      },
      "source": [
        "**IRIS**\n",
        "\n",
        "В библиотеке scikit-learn есть несколько датасетов из коробки. Один из них [Ирисы Фишера](https://ru.wikipedia.org/wiki/%D0%98%D1%80%D0%B8%D1%81%D1%8B_%D0%A4%D0%B8%D1%88%D0%B5%D1%80%D0%B0)"
      ]
    },
    {
      "cell_type": "code",
      "metadata": {
        "id": "c2icBrPSEF1Q"
      },
      "source": [
        "iris = datasets.load_iris()"
      ],
      "execution_count": 3,
      "outputs": []
    },
    {
      "cell_type": "code",
      "metadata": {
        "id": "d_rZnPiEEF1T"
      },
      "source": [
        "X_train, X_test, y_train, y_test = train_test_split(iris.data, iris.target, test_size=0.1, stratify=iris.target)"
      ],
      "execution_count": 4,
      "outputs": []
    },
    {
      "cell_type": "code",
      "metadata": {
        "id": "BM2LC6dQEF1V"
      },
      "source": [
        "clf = KNeighborsClassifier(n_neighbors=2, algorithm='brute')\n",
        "my_clf = MyKNeighborsClassifier(n_neighbors=2, algorithm='brute')"
      ],
      "execution_count": 5,
      "outputs": []
    },
    {
      "cell_type": "code",
      "metadata": {
        "id": "C_RvZGLzEF1Y"
      },
      "source": [
        "clf.fit(X_train, y_train)\n",
        "my_clf.fit(X_train, y_train)"
      ],
      "execution_count": 6,
      "outputs": []
    },
    {
      "cell_type": "code",
      "metadata": {
        "id": "_6N4jHAWEF1a"
      },
      "source": [
        "sklearn_pred = clf.predict(X_test)\n",
        "my_clf_pred = my_clf.predict(X_test)\n",
        "assert abs( accuracy_score(y_test, my_clf_pred) -  accuracy_score(y_test, sklearn_pred ) )<0.005, \"Score must be simillar\""
      ],
      "execution_count": 7,
      "outputs": []
    },
    {
      "cell_type": "markdown",
      "metadata": {
        "id": "jPcBwEDmEF1d"
      },
      "source": [
        "**Задание 2 (0.5 балла)**\n",
        "\n",
        "Давайте попробуем добиться скорости работы на fit, predict сравнимой со sklearn для iris. Допускается замедление не более чем в 2 раза. \n",
        "Для этого используем numpy. "
      ]
    },
    {
      "cell_type": "code",
      "metadata": {
        "id": "IJmPBKQlEF1d",
        "outputId": "e60dc2fb-8d01-439e-e033-760cd5a677a0",
        "colab": {
          "base_uri": "https://localhost:8080/",
          "height": 104
        }
      },
      "source": [
        "%time clf.fit(X_train, y_train)"
      ],
      "execution_count": 8,
      "outputs": [
        {
          "output_type": "stream",
          "text": [
            "CPU times: user 376 µs, sys: 72 µs, total: 448 µs\n",
            "Wall time: 456 µs\n"
          ],
          "name": "stdout"
        },
        {
          "output_type": "execute_result",
          "data": {
            "text/plain": [
              "KNeighborsClassifier(algorithm='brute', leaf_size=30, metric='minkowski',\n",
              "                     metric_params=None, n_jobs=None, n_neighbors=2, p=2,\n",
              "                     weights='uniform')"
            ]
          },
          "metadata": {
            "tags": []
          },
          "execution_count": 8
        }
      ]
    },
    {
      "cell_type": "code",
      "metadata": {
        "id": "l6BsZK8oEF1g",
        "outputId": "21506963-8939-488a-8150-884141630f88",
        "colab": {
          "base_uri": "https://localhost:8080/",
          "height": 52
        }
      },
      "source": [
        "%time my_clf.fit(X_train, y_train)"
      ],
      "execution_count": 9,
      "outputs": [
        {
          "output_type": "stream",
          "text": [
            "CPU times: user 18 µs, sys: 0 ns, total: 18 µs\n",
            "Wall time: 21 µs\n"
          ],
          "name": "stdout"
        }
      ]
    },
    {
      "cell_type": "code",
      "metadata": {
        "id": "NDBKlPvmEF1j",
        "outputId": "ec7b69fc-009a-4bbf-9b13-dcf7b7f60ecb",
        "colab": {
          "base_uri": "https://localhost:8080/",
          "height": 69
        }
      },
      "source": [
        "%time clf.predict(X_test)"
      ],
      "execution_count": 10,
      "outputs": [
        {
          "output_type": "stream",
          "text": [
            "CPU times: user 1.77 ms, sys: 146 µs, total: 1.91 ms\n",
            "Wall time: 2.63 ms\n"
          ],
          "name": "stdout"
        },
        {
          "output_type": "execute_result",
          "data": {
            "text/plain": [
              "array([2, 0, 0, 2, 2, 1, 1, 2, 2, 0, 0, 1, 1, 0, 2])"
            ]
          },
          "metadata": {
            "tags": []
          },
          "execution_count": 10
        }
      ]
    },
    {
      "cell_type": "code",
      "metadata": {
        "id": "3YJXXLOBEF1m",
        "outputId": "ef111a6e-ba1e-4330-9679-f801c5baba7f",
        "colab": {
          "base_uri": "https://localhost:8080/",
          "height": 69
        }
      },
      "source": [
        "%time my_clf.predict(X_test)"
      ],
      "execution_count": 11,
      "outputs": [
        {
          "output_type": "stream",
          "text": [
            "CPU times: user 791 µs, sys: 0 ns, total: 791 µs\n",
            "Wall time: 1.14 ms\n"
          ],
          "name": "stdout"
        },
        {
          "output_type": "execute_result",
          "data": {
            "text/plain": [
              "array([2, 0, 0, 2, 2, 1, 1, 2, 2, 0, 0, 1, 1, 0, 2])"
            ]
          },
          "metadata": {
            "tags": []
          },
          "execution_count": 11
        }
      ]
    },
    {
      "cell_type": "markdown",
      "metadata": {
        "id": "_kkzWABoEF1p"
      },
      "source": [
        "###### Задание 3 (1 балл)\n",
        "Добавьте algorithm='kd_tree' в реализацию KNN (использовать KDTree из sklearn.neighbors). Необходимо добиться скорости работы на fit,  predict сравнимой со sklearn для iris. Допускается замедление не более чем в 2 раза. \n",
        "Для этого используем numpy. Точность не должна уступать значению KNN из sklearn. "
      ]
    },
    {
      "cell_type": "code",
      "metadata": {
        "id": "EXptVYK0EF1p"
      },
      "source": [
        "clf = KNeighborsClassifier(n_neighbors=2, algorithm='kd_tree')\n",
        "my_clf = MyKNeighborsClassifier(n_neighbors=2, algorithm='kd_tree')"
      ],
      "execution_count": 12,
      "outputs": []
    },
    {
      "cell_type": "code",
      "metadata": {
        "id": "Nef4UajCEF1r"
      },
      "source": [
        "X_train, X_test, y_train, y_test = train_test_split(iris.data, iris.target, test_size=0.1, stratify=iris.target)"
      ],
      "execution_count": 13,
      "outputs": []
    },
    {
      "cell_type": "code",
      "metadata": {
        "id": "VUYJydaZEF1t",
        "outputId": "7fd7e77b-f1b8-4ea2-c934-150076954833",
        "colab": {
          "base_uri": "https://localhost:8080/",
          "height": 104
        }
      },
      "source": [
        "%time clf.fit(X_train, y_train)"
      ],
      "execution_count": 14,
      "outputs": [
        {
          "output_type": "stream",
          "text": [
            "CPU times: user 593 µs, sys: 114 µs, total: 707 µs\n",
            "Wall time: 732 µs\n"
          ],
          "name": "stdout"
        },
        {
          "output_type": "execute_result",
          "data": {
            "text/plain": [
              "KNeighborsClassifier(algorithm='kd_tree', leaf_size=30, metric='minkowski',\n",
              "                     metric_params=None, n_jobs=None, n_neighbors=2, p=2,\n",
              "                     weights='uniform')"
            ]
          },
          "metadata": {
            "tags": []
          },
          "execution_count": 14
        }
      ]
    },
    {
      "cell_type": "code",
      "metadata": {
        "id": "TMY-1vGsEF1w",
        "outputId": "be5dfea8-557a-4a05-f127-b9365d4f5a40",
        "colab": {
          "base_uri": "https://localhost:8080/",
          "height": 52
        }
      },
      "source": [
        "%time my_clf.fit(X_train, y_train)"
      ],
      "execution_count": 15,
      "outputs": [
        {
          "output_type": "stream",
          "text": [
            "CPU times: user 214 µs, sys: 0 ns, total: 214 µs\n",
            "Wall time: 227 µs\n"
          ],
          "name": "stdout"
        }
      ]
    },
    {
      "cell_type": "code",
      "metadata": {
        "id": "Bt2hR8ZfEF10",
        "outputId": "f6b5099b-8046-4569-c19f-2e006521039f",
        "colab": {
          "base_uri": "https://localhost:8080/",
          "height": 69
        }
      },
      "source": [
        "%time clf.predict(X_test)"
      ],
      "execution_count": 16,
      "outputs": [
        {
          "output_type": "stream",
          "text": [
            "CPU times: user 2.21 ms, sys: 0 ns, total: 2.21 ms\n",
            "Wall time: 2.57 ms\n"
          ],
          "name": "stdout"
        },
        {
          "output_type": "execute_result",
          "data": {
            "text/plain": [
              "array([0, 1, 1, 0, 2, 1, 2, 0, 1, 2, 1, 0, 1, 1, 0])"
            ]
          },
          "metadata": {
            "tags": []
          },
          "execution_count": 16
        }
      ]
    },
    {
      "cell_type": "code",
      "metadata": {
        "id": "69M0RH-vEF12",
        "outputId": "30e477b1-45fe-41e1-cfd6-2909c892a1bb",
        "colab": {
          "base_uri": "https://localhost:8080/",
          "height": 69
        }
      },
      "source": [
        "%time my_clf.predict(X_test)"
      ],
      "execution_count": 17,
      "outputs": [
        {
          "output_type": "stream",
          "text": [
            "CPU times: user 521 µs, sys: 0 ns, total: 521 µs\n",
            "Wall time: 674 µs\n"
          ],
          "name": "stdout"
        },
        {
          "output_type": "execute_result",
          "data": {
            "text/plain": [
              "array([0, 1, 1, 0, 2, 1, 2, 0, 1, 2, 1, 0, 1, 1, 0])"
            ]
          },
          "metadata": {
            "tags": []
          },
          "execution_count": 17
        }
      ]
    },
    {
      "cell_type": "code",
      "metadata": {
        "id": "tQ6xaNXCEF15"
      },
      "source": [
        "sklearn_pred = clf.predict(X_test)\n",
        "my_clf_pred = my_clf.predict(X_test)\n",
        "assert abs( accuracy_score(y_test, my_clf_pred) -  accuracy_score(y_test, sklearn_pred ) )<0.005, \"Score must be simillar\""
      ],
      "execution_count": 18,
      "outputs": []
    },
    {
      "cell_type": "markdown",
      "metadata": {
        "id": "9N-PabiQEF17"
      },
      "source": [
        "**Задание 4 (2.5 балла)**\n",
        "\n",
        "Рассмотрим новый датасет 20 newsgroups"
      ]
    },
    {
      "cell_type": "code",
      "metadata": {
        "id": "MIUNH6HiEF18"
      },
      "source": [
        "newsgroups = fetch_20newsgroups(subset='train',remove=['headers','footers', 'quotes'])"
      ],
      "execution_count": 19,
      "outputs": []
    },
    {
      "cell_type": "code",
      "metadata": {
        "id": "xIQ-sKjsEF19"
      },
      "source": [
        "data = newsgroups['data']\n",
        "target = newsgroups['target']"
      ],
      "execution_count": 20,
      "outputs": []
    },
    {
      "cell_type": "markdown",
      "metadata": {
        "id": "MRwbJsBCEF2A"
      },
      "source": [
        "Преобразуйте текстовые данные из data с помощью [CountVectorizer](https://scikit-learn.org/stable/modules/generated/sklearn.feature_extraction.text.CountVectorizer.html). Словарь можно ограничить по частотности."
      ]
    },
    {
      "cell_type": "code",
      "metadata": {
        "id": "o1CisukfEF2A"
      },
      "source": [
        "from sklearn.feature_extraction.text import CountVectorizer, TfidfVectorizer"
      ],
      "execution_count": 21,
      "outputs": []
    },
    {
      "cell_type": "code",
      "metadata": {
        "id": "MOmmsMzxEF2C"
      },
      "source": [
        "vectorizer = CountVectorizer(max_features=1000)\n",
        "X_data = vectorizer.fit_transform(data)\n",
        "\n",
        "vectorizer_tfidf = TfidfVectorizer(max_features=1000)\n",
        "X_data_tfidf = vectorizer_tfidf.fit_transform(data)"
      ],
      "execution_count": 22,
      "outputs": []
    },
    {
      "cell_type": "markdown",
      "metadata": {
        "id": "8-CSd0HiEF2E"
      },
      "source": [
        "Так мы получили векторное представление наших текстов. Значит можно приступать к задаче обучения модели*"
      ]
    },
    {
      "cell_type": "markdown",
      "metadata": {
        "id": "b8so5_COEF2F"
      },
      "source": [
        "Реализуйте разбиение выборки для кросс-валидации на 3 фолдах. Разрешено использовать sklearn.cross_validation"
      ]
    },
    {
      "cell_type": "code",
      "metadata": {
        "id": "ZQ77prgJEF2F"
      },
      "source": [
        "def get_score_cross_val(X, y, k, algorithm='brute', metric='cosine', n_splits=3, standartisation=True, print_results=False):\n",
        "    k_fold = KFold(n_splits=n_splits, shuffle=True, random_state=10)\n",
        "    scores = list()\n",
        "    i = 1\n",
        "    for train_index, test_index in k_fold.split(X):\n",
        "        X_train, X_test = X[train_index].toarray(), X[test_index].toarray()\n",
        "        y_train, y_test = y[train_index], y[test_index]\n",
        "        \n",
        "        my_clf = MyKNeighborsClassifier(k, algorithm=algorithm, metric=metric,\n",
        "                                        standartisation=standartisation)\n",
        "        my_clf.fit(X_train, y_train)\n",
        "        prediction = my_clf.predict(X_test)\n",
        "        score = accuracy_score(y_test, prediction)\n",
        "        scores.append(score)\n",
        "        if print_results:\n",
        "            print('{}: score = {}  '.format(i, score))\n",
        "        i += 1\n",
        "    scores = np.array(scores)\n",
        "    mean = scores.mean()\n",
        "    if print_results:\n",
        "        print('Mean = {}  '.format(mean))\n",
        "    return mean"
      ],
      "execution_count": 23,
      "outputs": []
    },
    {
      "cell_type": "markdown",
      "metadata": {
        "id": "eZzBkGMgEF2I"
      },
      "source": [
        "Напишите метод, позволяющий найти оптимальное количество ближайших соседей(дающее максимальную точность в среднем на валидации на 3 фолдах).\n",
        "Постройте график зависимости средней точности от количества соседей. Можно рассмотреть число соседей от 1 до 10."
      ]
    },
    {
      "cell_type": "code",
      "metadata": {
        "id": "LB8hwoQWEF2J"
      },
      "source": [
        "metrics = ['euclidean', 'cosine']\n",
        "algorithms = ['brute', 'kd_tree']\n",
        "scores = list()\n",
        "scores_spec = list()\n",
        "best_score = 0.\n",
        "best_score_spec = None\n",
        "standartisation = True\n",
        "\n",
        "plot_points = {\n",
        "    'euclidean': {\n",
        "        'brute': {\n",
        "            'CountVectorizer': [],\n",
        "            'TfidFVectorizer': []\n",
        "        },\n",
        "        'kd_tree': {\n",
        "            'CountVectorizer': [],\n",
        "            'TfidFVectorizer': []\n",
        "        }\n",
        "    },\n",
        "    'cosine': {\n",
        "        'brute': {\n",
        "            'CountVectorizer': [],\n",
        "            'TfidFVectorizer': []\n",
        "        }\n",
        "    }\n",
        "}"
      ],
      "execution_count": 24,
      "outputs": []
    },
    {
      "cell_type": "code",
      "metadata": {
        "id": "rUyAElGZEF2M",
        "outputId": "66a63860-9a68-4d2e-92ff-26eb4d598b0b",
        "colab": {
          "base_uri": "https://localhost:8080/",
          "height": 69
        }
      },
      "source": [
        "%%time\n",
        "\n",
        "print_results = False\n",
        "\n",
        "for n_neighbours in np.arange(1, 11):\n",
        "    for algorithm in algorithms:\n",
        "        for metric in metrics:\n",
        "            \n",
        "            if metric == 'cosine' and algorithm == 'kd_tree':\n",
        "                continue\n",
        "            \n",
        "            if print_results:\n",
        "                print('k = {}; algorithm = {}; metric = {}; standartisation = {}  '.format(\n",
        "                    n_neighbours, algorithm, metric, standartisation))\n",
        "            \n",
        "            # print('1) CountVectorizer  ')\n",
        "            score = get_score_cross_val(X_data, target, n_neighbours, algorithm, metric, print_results=print_results)\n",
        "            if score > best_score:\n",
        "                best_score = score\n",
        "                best_score_spec = (n_neighbours, algorithm, metric, 'CountVectorizer')\n",
        "            scores.append(score)\n",
        "            scores_spec.append((n_neighbours, algorithm, metric, 'CountVectorizer'))\n",
        "            plot_points[metric][algorithm]['CountVectorizer'].append(score)\n",
        "            \n",
        "            if print_results:\n",
        "                print('\\n2) TfidFVectorizer  ')\n",
        "            score = get_score_cross_val(X_data_tfidf, target, n_neighbours, algorithm, metric, print_results=print_results)\n",
        "            if score > best_score:\n",
        "                best_score = score\n",
        "                best_score_spec = (n_neighbours, algorithm, metric, 'TfidFVectorizer')\n",
        "            scores.append(score)\n",
        "            scores_spec.append((n_neighbours, algorithm, metric, 'CountVectorizer'))\n",
        "            plot_points[metric][algorithm]['TfidFVectorizer'].append(score)\n",
        "            if print_results:\n",
        "                print('  ')\n",
        "                print('*****************************  ')\n",
        "                print('  ')\n",
        "\n",
        "print('Best score: {} at k = {}, algorithm = {}, metric = {}, vectorizer = {}  '.format(best_score, *best_score_spec))"
      ],
      "execution_count": 25,
      "outputs": [
        {
          "output_type": "stream",
          "text": [
            "Best score: 0.4180672597774368 at k = 10, algorithm = brute, metric = cosine, vectorizer = TfidFVectorizer  \n",
            "CPU times: user 53min 16s, sys: 15.6 s, total: 53min 31s\n",
            "Wall time: 50min 13s\n"
          ],
          "name": "stdout"
        }
      ]
    },
    {
      "cell_type": "markdown",
      "metadata": {
        "id": "weajIB0-IrBt"
      },
      "source": [
        "Пример вывода при max_features=10, k=1..10\n",
        "\n",
        "k = 1; algorithm = brute; metric = euclidean; standartisation = True  \n",
        "1) CountVectorizer  \n",
        "1: score = 0.05408271474019088  \n",
        "2: score = 0.060991779368867675  \n",
        "3: score = 0.056748872977989924  \n",
        "Mean = 0.057274455695682826  \n",
        "\n",
        "2) TfidFVectorizer  \n",
        "1: score = 0.060445387062566275  \n",
        "2: score = 0.057014054627419784  \n",
        "3: score = 0.05197560328825245  \n",
        "Mean = 0.05647834832607951  \n",
        "  \n",
        "*****************************  \n",
        "  \n",
        "k = 1; algorithm = brute; metric = cosine; standartisation = True  \n",
        "1) CountVectorizer  \n",
        "1: score = 0.08271474019088017  \n",
        "2: score = 0.08591885441527446  \n",
        "3: score = 0.09069212410501193  \n",
        "Mean = 0.08644190623705551  \n",
        "\n",
        "2) TfidFVectorizer  \n",
        "1: score = 0.07476139978791092  \n",
        "2: score = 0.06576504905860514  \n",
        "3: score = 0.081145584725537  \n",
        "Mean = 0.07389067785735103  \n",
        "  \n",
        "*****************************  \n",
        "  \n",
        "k = 1; algorithm = kd_tree; metric = euclidean; standartisation = True  \n",
        "1) CountVectorizer  \n",
        "1: score = 0.05408271474019088  \n",
        "2: score = 0.060991779368867675  \n",
        "3: score = 0.056748872977989924  \n",
        "Mean = 0.057274455695682826  \n",
        "\n",
        "2) TfidFVectorizer  \n",
        "1: score = 0.060445387062566275  \n",
        "2: score = 0.057014054627419784  \n",
        "3: score = 0.05197560328825245  \n",
        "Mean = 0.05647834832607951  \n",
        "  \n",
        "*****************************  \n",
        "  \n",
        "k = 2; algorithm = brute; metric = euclidean; standartisation = True  \n",
        "1) CountVectorizer  \n",
        "1: score = 0.05540827147401909  \n",
        "2: score = 0.06311323256430655  \n",
        "3: score = 0.06178732431715725  \n",
        "Mean = 0.060102942785160964  \n",
        "\n",
        "2) TfidFVectorizer  \n",
        "1: score = 0.06495227995758218  \n",
        "2: score = 0.060461416070007955  \n",
        "3: score = 0.06311323256430655  \n",
        "Mean = 0.06284230953063223  \n",
        "  \n",
        "*****************************  \n",
        "  \n",
        "k = 2; algorithm = brute; metric = cosine; standartisation = True  \n",
        "1) CountVectorizer  \n",
        "1: score = 0.08138918345705196  \n",
        "2: score = 0.08538849111641475  \n",
        "3: score = 0.09732166534075842  \n",
        "Mean = 0.08803311330474171  \n",
        "\n",
        "2) TfidFVectorizer  \n",
        "1: score = 0.07502651113467657  \n",
        "2: score = 0.07345531689207106  \n",
        "3: score = 0.07822858658180853  \n",
        "Mean = 0.07557013820285206  \n",
        "  \n",
        "*****************************  \n",
        "  \n",
        "k = 2; algorithm = kd_tree; metric = euclidean; standartisation = True  \n",
        "1) CountVectorizer  \n",
        "1: score = 0.05540827147401909  \n",
        "2: score = 0.06311323256430655  \n",
        "3: score = 0.06178732431715725  \n",
        "Mean = 0.060102942785160964  \n",
        "\n",
        "2) TfidFVectorizer  \n",
        "1: score = 0.06495227995758218  \n",
        "2: score = 0.060461416070007955  \n",
        "3: score = 0.06311323256430655  \n",
        "Mean = 0.06284230953063223  \n",
        "  \n",
        "*****************************  \n",
        "  \n",
        "k = 3; algorithm = brute; metric = euclidean; standartisation = True  \n",
        "1) CountVectorizer  \n",
        "1: score = 0.05275715800636267  \n",
        "2: score = 0.06417395916202599  \n",
        "3: score = 0.06417395916202599  \n",
        "Mean = 0.06036835877680489  \n",
        "\n",
        "2) TfidFVectorizer  \n",
        "1: score = 0.06415694591728525  \n",
        "2: score = 0.059665871121718374  \n",
        "3: score = 0.05940068947228852  \n",
        "Mean = 0.06107450217043072  \n",
        "  \n",
        "*****************************  \n",
        "  \n",
        "k = 3; algorithm = brute; metric = cosine; standartisation = True  \n",
        "1) CountVectorizer  \n",
        "1: score = 0.08960763520678686  \n",
        "2: score = 0.08750994431185362  \n",
        "3: score = 0.09307875894988067  \n",
        "Mean = 0.09006544615617372  \n",
        "\n",
        "2) TfidFVectorizer  \n",
        "1: score = 0.07184517497348887  \n",
        "2: score = 0.06629541235746486  \n",
        "3: score = 0.07159904534606205  \n",
        "Mean = 0.0699132108923386  \n",
        "  \n",
        "*****************************  \n",
        "  \n",
        "k = 3; algorithm = kd_tree; metric = euclidean; standartisation = True  \n",
        "1) CountVectorizer  \n",
        "1: score = 0.05275715800636267  \n",
        "2: score = 0.06417395916202599  \n",
        "3: score = 0.06417395916202599  \n",
        "Mean = 0.06036835877680489  \n",
        "\n",
        "2) TfidFVectorizer  \n",
        "1: score = 0.06415694591728525  \n",
        "2: score = 0.059665871121718374  \n",
        "3: score = 0.05940068947228852  \n",
        "Mean = 0.06107450217043072  \n",
        "  \n",
        "*****************************  \n",
        "  \n",
        "k = 4; algorithm = brute; metric = euclidean; standartisation = True  \n",
        "1) CountVectorizer  \n",
        "1: score = 0.05328738069989396  \n",
        "2: score = 0.0588703261734288  \n",
        "3: score = 0.06470432246088571  \n",
        "Mean = 0.05895400977806949  \n",
        "\n",
        "2) TfidFVectorizer  \n",
        "1: score = 0.05752916224814422  \n",
        "2: score = 0.05542296473084063  \n",
        "3: score = 0.0588703261734288  \n",
        "Mean = 0.05727415105080455  \n",
        "  \n",
        "*****************************  \n",
        "  \n",
        "k = 4; algorithm = brute; metric = cosine; standartisation = True  \n",
        "1) CountVectorizer  \n",
        "1: score = 0.08536585365853659  \n",
        "2: score = 0.08485812781755503  \n",
        "3: score = 0.09626093874303898  \n",
        "Mean = 0.0888283067397102  \n",
        "\n",
        "2) TfidFVectorizer  \n",
        "1: score = 0.07555673382820785  \n",
        "2: score = 0.07027313709891275  \n",
        "3: score = 0.06841686555290374  \n",
        "Mean = 0.07141557882667478  \n",
        "  \n",
        "*****************************  \n",
        "  \n",
        "k = 4; algorithm = kd_tree; metric = euclidean; standartisation = True  \n",
        "1) CountVectorizer  \n",
        "1: score = 0.05328738069989396  \n",
        "2: score = 0.0588703261734288  \n",
        "3: score = 0.06470432246088571  \n",
        "Mean = 0.05895400977806949  \n",
        "\n",
        "2) TfidFVectorizer  \n",
        "1: score = 0.05752916224814422  \n",
        "2: score = 0.05542296473084063  \n",
        "3: score = 0.0588703261734288  \n",
        "Mean = 0.05727415105080455  \n",
        "  \n",
        "*****************************  \n",
        "  \n",
        "k = 5; algorithm = brute; metric = euclidean; standartisation = True  \n",
        "1) CountVectorizer  \n",
        "1: score = 0.05540827147401909  \n",
        "2: score = 0.05913550782285866  \n",
        "3: score = 0.06205250596658711  \n",
        "Mean = 0.05886542842115496  \n",
        "\n",
        "2) TfidFVectorizer  \n",
        "1: score = 0.06362672322375397  \n",
        "2: score = 0.05489260143198091  \n",
        "3: score = 0.05250596658711217  \n",
        "Mean = 0.05700843041428235  \n",
        "  \n",
        "*****************************  \n",
        "  \n",
        "k = 5; algorithm = brute; metric = cosine; standartisation = True  \n",
        "1) CountVectorizer  \n",
        "1: score = 0.08085896076352068  \n",
        "2: score = 0.08485812781755503  \n",
        "3: score = 0.08989657915672236  \n",
        "Mean = 0.08520455591259934  \n",
        "\n",
        "2) TfidFVectorizer  \n",
        "1: score = 0.07820784729586426  \n",
        "2: score = 0.07106868204720233  \n",
        "3: score = 0.06815168390347388  \n",
        "Mean = 0.07247607108218017  \n",
        "  \n",
        "*****************************  \n",
        "  \n",
        "k = 5; algorithm = kd_tree; metric = euclidean; standartisation = True  \n",
        "1) CountVectorizer  \n",
        "1: score = 0.05540827147401909  \n",
        "2: score = 0.05940068947228852  \n",
        "3: score = 0.06205250596658711  \n",
        "Mean = 0.05895382230429824  \n",
        "\n",
        "2) TfidFVectorizer  \n",
        "1: score = 0.06362672322375397  \n",
        "2: score = 0.05489260143198091  \n",
        "3: score = 0.05250596658711217  \n",
        "Mean = 0.05700843041428235  \n",
        "  \n",
        "*****************************  \n",
        "  \n",
        "k = 6; algorithm = brute; metric = euclidean; standartisation = True  \n",
        "1) CountVectorizer  \n",
        "1: score = 0.05726405090137858  \n",
        "2: score = 0.05833996287456908  \n",
        "3: score = 0.06311323256430655  \n",
        "Mean = 0.0595724154467514  \n",
        "\n",
        "2) TfidFVectorizer  \n",
        "1: score = 0.06654294803817604  \n",
        "2: score = 0.057279236276849645  \n",
        "3: score = 0.05568814638027048  \n",
        "Mean = 0.05983677689843205  \n",
        "  \n",
        "*****************************  \n",
        "  \n",
        "k = 6; algorithm = brute; metric = cosine; standartisation = True  \n",
        "1) CountVectorizer  \n",
        "1: score = 0.08191940615058324  \n",
        "2: score = 0.08485812781755503  \n",
        "3: score = 0.08910103420843278  \n",
        "Mean = 0.08529285605885702  \n",
        "\n",
        "2) TfidFVectorizer  \n",
        "1: score = 0.07820784729586426  \n",
        "2: score = 0.07106868204720233  \n",
        "3: score = 0.0713338636966322  \n",
        "Mean = 0.0735367976798996  \n",
        "  \n",
        "*****************************  \n",
        "  \n",
        "k = 6; algorithm = kd_tree; metric = euclidean; standartisation = True  \n",
        "1) CountVectorizer  \n",
        "1: score = 0.05726405090137858  \n",
        "2: score = 0.05833996287456908  \n",
        "3: score = 0.06311323256430655  \n",
        "Mean = 0.0595724154467514  \n",
        "\n",
        "2) TfidFVectorizer  \n",
        "1: score = 0.06654294803817604  \n",
        "2: score = 0.057279236276849645  \n",
        "3: score = 0.05568814638027048  \n",
        "Mean = 0.05983677689843205  \n",
        "  \n",
        "*****************************  \n",
        "  \n",
        "k = 7; algorithm = brute; metric = euclidean; standartisation = True  \n",
        "1) CountVectorizer  \n",
        "1: score = 0.0612407211028632  \n",
        "2: score = 0.05595332802970034  \n",
        "3: score = 0.060726597719437815  \n",
        "Mean = 0.059306882284000446  \n",
        "\n",
        "2) TfidFVectorizer  \n",
        "1: score = 0.06654294803817604  \n",
        "2: score = 0.059665871121718374  \n",
        "3: score = 0.057279236276849645  \n",
        "Mean = 0.06116268514558135  \n",
        "  \n",
        "*****************************  \n",
        "  \n",
        "k = 7; algorithm = brute; metric = cosine; standartisation = True  \n",
        "1) CountVectorizer  \n",
        "1: score = 0.07820784729586426  \n",
        "2: score = 0.08512330946698489  \n",
        "3: score = 0.08618403606470432  \n",
        "Mean = 0.08317173094251783  \n",
        "\n",
        "2) TfidFVectorizer  \n",
        "1: score = 0.07714740190880169  \n",
        "2: score = 0.07319013524264122  \n",
        "3: score = 0.0745160434897905  \n",
        "Mean = 0.0749511935470778  \n",
        "  \n",
        "*****************************  \n",
        "  \n",
        "k = 7; algorithm = kd_tree; metric = euclidean; standartisation = True  \n",
        "1) CountVectorizer  \n",
        "1: score = 0.0612407211028632  \n",
        "2: score = 0.05595332802970034  \n",
        "3: score = 0.060726597719437815  \n",
        "Mean = 0.059306882284000446  \n",
        "\n",
        "2) TfidFVectorizer  \n",
        "1: score = 0.06654294803817604  \n",
        "2: score = 0.059665871121718374  \n",
        "3: score = 0.057279236276849645  \n",
        "Mean = 0.06116268514558135  \n",
        "  \n",
        "*****************************  \n",
        "  \n",
        "k = 8; algorithm = brute; metric = euclidean; standartisation = True  \n",
        "1) CountVectorizer  \n",
        "1: score = 0.06389183457051961  \n",
        "2: score = 0.0562185096791302  \n",
        "3: score = 0.05940068947228852  \n",
        "Mean = 0.05983701124064611  \n",
        "\n",
        "2) TfidFVectorizer  \n",
        "1: score = 0.06495227995758218  \n",
        "2: score = 0.060196234420578094  \n",
        "3: score = 0.0575444179262795  \n",
        "Mean = 0.06089764410147993  \n",
        "  \n",
        "*****************************  \n",
        "  \n",
        "k = 8; algorithm = brute; metric = cosine; standartisation = True  \n",
        "1) CountVectorizer  \n",
        "1: score = 0.0803287380699894  \n",
        "2: score = 0.08857067090957306  \n",
        "3: score = 0.09201803235216123  \n",
        "Mean = 0.08697248044390789  \n",
        "\n",
        "2) TfidFVectorizer  \n",
        "1: score = 0.07688229056203605  \n",
        "2: score = 0.07637231503579953  \n",
        "3: score = 0.07504640678865022  \n",
        "Mean = 0.07610033746216194  \n",
        "  \n",
        "*****************************  \n",
        "  \n",
        "k = 8; algorithm = kd_tree; metric = euclidean; standartisation = True  \n",
        "1) CountVectorizer  \n",
        "1: score = 0.06389183457051961  \n",
        "2: score = 0.0562185096791302  \n",
        "3: score = 0.05940068947228852  \n",
        "Mean = 0.05983701124064611  \n",
        "\n",
        "2) TfidFVectorizer  \n",
        "1: score = 0.06495227995758218  \n",
        "2: score = 0.060196234420578094  \n",
        "3: score = 0.0575444179262795  \n",
        "Mean = 0.06089764410147993  \n",
        "  \n",
        "*****************************  \n",
        "  \n",
        "k = 9; algorithm = brute; metric = euclidean; standartisation = True  \n",
        "1) CountVectorizer  \n",
        "1: score = 0.06601272534464475  \n",
        "2: score = 0.05595332802970034  \n",
        "3: score = 0.0588703261734288  \n",
        "Mean = 0.0602787931825913  \n",
        "\n",
        "2) TfidFVectorizer  \n",
        "1: score = 0.06548250265111347  \n",
        "2: score = 0.06284805091487669  \n",
        "3: score = 0.05940068947228852  \n",
        "Mean = 0.06257708101275956  \n",
        "  \n",
        "*****************************  \n",
        "  \n",
        "k = 9; algorithm = brute; metric = cosine; standartisation = True  \n",
        "1) CountVectorizer  \n",
        "1: score = 0.07529162248144221  \n",
        "2: score = 0.08618403606470432  \n",
        "3: score = 0.09175285070273137  \n",
        "Mean = 0.0844095030829593  \n",
        "\n",
        "2) TfidFVectorizer  \n",
        "1: score = 0.08085896076352068  \n",
        "2: score = 0.07345531689207106  \n",
        "3: score = 0.08035003977724742  \n",
        "Mean = 0.07822143914427972  \n",
        "  \n",
        "*****************************  \n",
        "  \n",
        "k = 9; algorithm = kd_tree; metric = euclidean; standartisation = True  \n",
        "1) CountVectorizer  \n",
        "1: score = 0.06601272534464475  \n",
        "2: score = 0.05595332802970034  \n",
        "3: score = 0.0588703261734288  \n",
        "Mean = 0.0602787931825913  \n",
        "\n",
        "2) TfidFVectorizer  \n",
        "1: score = 0.06548250265111347  \n",
        "2: score = 0.06284805091487669  \n",
        "3: score = 0.05940068947228852  \n",
        "Mean = 0.06257708101275956  \n",
        "  \n",
        "*****************************  \n",
        "  \n",
        "k = 10; algorithm = brute; metric = euclidean; standartisation = True  \n",
        "1) CountVectorizer  \n",
        "1: score = 0.06654294803817604  \n",
        "2: score = 0.0588703261734288  \n",
        "3: score = 0.05807478122513922  \n",
        "Mean = 0.061162685145581354  \n",
        "\n",
        "2) TfidFVectorizer  \n",
        "1: score = 0.06839872746553552  \n",
        "2: score = 0.056483691328560064  \n",
        "3: score = 0.05833996287456908  \n",
        "Mean = 0.06107412722288822  \n",
        "  \n",
        "*****************************  \n",
        "  \n",
        "k = 10; algorithm = brute; metric = cosine; standartisation = True  \n",
        "1) CountVectorizer  \n",
        "1: score = 0.0803287380699894  \n",
        "2: score = 0.0896313975072925  \n",
        "3: score = 0.08910103420843278  \n",
        "Mean = 0.0863537232619049  \n",
        "\n",
        "2) TfidFVectorizer  \n",
        "1: score = 0.0803287380699894  \n",
        "2: score = 0.0758419517369398  \n",
        "3: score = 0.08141076637496686  \n",
        "Mean = 0.07919381872729869  \n",
        "  \n",
        "*****************************  \n",
        "  \n",
        "k = 10; algorithm = kd_tree; metric = euclidean; standartisation = True  \n",
        "1) CountVectorizer  \n",
        "1: score = 0.06654294803817604  \n",
        "2: score = 0.0588703261734288  \n",
        "3: score = 0.05807478122513922  \n",
        "Mean = 0.061162685145581354  \n",
        "\n",
        "2) TfidFVectorizer  \n",
        "1: score = 0.06839872746553552  \n",
        "2: score = 0.056483691328560064  \n",
        "3: score = 0.05833996287456908  \n",
        "Mean = 0.06107412722288822  \n",
        "  \n",
        "*****************************  \n",
        "  \n",
        "Best score: 0.09006544615617372 at k = 3, algorithm = brute, metric = cosine, vectorizer = CountVectorizer  \n",
        "CPU times: user 1min 33s, sys: 13.7 s, total: 1min 47s  \n",
        "Wall time: 1min 25s"
      ]
    },
    {
      "cell_type": "code",
      "metadata": {
        "id": "vRgnkUBDEF2O",
        "outputId": "40ace2e6-530a-4d1f-9188-04f221456c00",
        "colab": {
          "base_uri": "https://localhost:8080/",
          "height": 497
        }
      },
      "source": [
        "scale = np.arange(1, 11)\n",
        "fig = plt.figure(figsize=(16, 8))\n",
        "ax = fig.add_subplot()\n",
        "ax.set_xlabel('k')\n",
        "ax.set_ylabel('Algorithm accuracy')\n",
        "colors = ['red', 'orange', 'yellow', 'green', 'blue', 'purple']\n",
        "i = 0\n",
        "for metric_ in plot_points:\n",
        "    for algorithm_ in plot_points[metric_]:\n",
        "        for vectorizer_ in plot_points[metric_][algorithm_]:\n",
        "            label_ = ' '.join([vectorizer_, algorithm_, metric_])\n",
        "            ax.plot(scale, plot_points[metric_][algorithm_][vectorizer_],\n",
        "                    color=colors[i], label=label_)\n",
        "            i += 1\n",
        "ax.legend()\n",
        "plt.show()"
      ],
      "execution_count": 26,
      "outputs": [
        {
          "output_type": "display_data",
          "data": {
            "image/png": "[encoded data removed]",
            "text/plain": [
              "<Figure size 1152x576 with 1 Axes>"
            ]
          },
          "metadata": {
            "tags": [],
            "needs_background": "light"
          }
        }
      ]
    },
    {
      "cell_type": "markdown",
      "metadata": {
        "id": "KqxqJqadEF2P"
      },
      "source": [
        "Как изменится качество на валидации, если:\n",
        "\n",
        "1. Используется косинусная метрика вместо евклидовой.\n",
        "2. К текстам применяется TfIdf векторизацию( sklearn.feature_extraction.text.TfidfVectorizer)\n",
        "\n",
        "Сравните модели, выберите лучшую."
      ]
    },
    {
      "cell_type": "code",
      "metadata": {
        "id": "rZ9AxJ40EF2Q",
        "outputId": "3620478a-971d-4532-fd54-6720960c6e58",
        "colab": {
          "base_uri": "https://localhost:8080/",
          "height": 35
        }
      },
      "source": [
        "print('Best score: {} at k = {}, algorithm = {}, metric = {}, vectorizer = {}'.format(best_score, *best_score_spec))"
      ],
      "execution_count": 27,
      "outputs": [
        {
          "output_type": "stream",
          "text": [
            "Best score: 0.4180672597774368 at k = 10, algorithm = brute, metric = cosine, vectorizer = TfidFVectorizer\n"
          ],
          "name": "stdout"
        }
      ]
    },
    {
      "cell_type": "markdown",
      "metadata": {
        "id": "2X1VkbsHEF2S"
      },
      "source": [
        "Загрузим  теперь test  часть нашей выборки и преобразуем её аналогично с train частью. Не забудьте, что наборы слов в train и test части могут отличаться."
      ]
    },
    {
      "cell_type": "code",
      "metadata": {
        "id": "rjHteym9EF2T"
      },
      "source": [
        "newsgroups = fetch_20newsgroups(subset='test',remove=['headers','footers', 'quotes'])"
      ],
      "execution_count": 28,
      "outputs": []
    },
    {
      "cell_type": "markdown",
      "metadata": {
        "id": "FkTPSpAoEF2V"
      },
      "source": [
        "Оценим точность вашей лучшей модели на test части датасета. Отличается ли оно от кросс-валидации? Попробуйте сделать выводы, почему отличается качество."
      ]
    },
    {
      "cell_type": "markdown",
      "metadata": {
        "collapsed": true,
        "id": "AUqlZ_JOEF2W"
      },
      "source": [
        "Причиной разного качества работы на train- и test-части может быть несовпадение словаря слов, содержащихся в этих частях датасета."
      ]
    }
  ]
}